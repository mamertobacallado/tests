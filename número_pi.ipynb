{
 "cells": [
  {
   "cell_type": "markdown",
   "id": "e86e7b25",
   "metadata": {},
   "source": [
    "# Estimación del número Pi por el método de Montecarlo"
   ]
  },
  {
   "cell_type": "markdown",
   "id": "046862d8",
   "metadata": {},
   "source": [
    "Esto es un programita Python que genera puntos aleatoriamente en un cuadrado.\n",
    "La fracción de puntos que cae en el círculo inscrito es una estimación de $pi/4$"
   ]
  },
  {
   "cell_type": "code",
   "execution_count": 121,
   "id": "f42002f9",
   "metadata": {},
   "outputs": [],
   "source": [
    "import matplotlib.pyplot as plt\n",
    "import numpy as np\n",
    "from ipywidgets import interactive, fixed\n",
    "\n",
    "def graph(N=10) :\n",
    "    \n",
    "    x = np.random.uniform(low=-1,high=1,size=N)\n",
    "    y = np.random.uniform(low=-1,high=1,size=N)\n",
    "    \n",
    "    d2 = x*x + y*y\n",
    "    pi = (d2 <= 1).sum() * 4/N\n",
    "    \n",
    "    fig, ax = plt.subplots()\n",
    "    circle = plt.Circle((0, 0), 1.0, color='blue',fill=False)\n",
    "    ax.plot(x, y, marker='.', ms=1, lw=0, color='red',zorder=0)\n",
    "    ax.set_xlim(-1,1)\n",
    "    ax.set_ylim(-1,1)\n",
    "    ax.set_aspect('equal')\n",
    "    ax.set_title('N=%d   Pi ~ %f' % (N,pi))\n",
    "    ax.add_patch(circle)    \n",
    " "
   ]
  },
  {
   "cell_type": "code",
   "execution_count": 122,
   "id": "d72f23e7",
   "metadata": {},
   "outputs": [
    {
     "data": {
      "application/vnd.jupyter.widget-view+json": {
       "model_id": "e4a10f0fd1464da88d6794120aed0a31",
       "version_major": 2,
       "version_minor": 0
      },
      "text/plain": [
       "interactive(children=(IntSlider(value=10, description='N', max=100000, min=10), Output()), _dom_classes=('widg…"
      ]
     },
     "execution_count": 122,
     "metadata": {},
     "output_type": "execute_result"
    }
   ],
   "source": [
    "z = interactive(graph, N=(10,100000))\n",
    "z"
   ]
  },
  {
   "cell_type": "markdown",
   "id": "71753a01",
   "metadata": {},
   "source": [
    "Es un método ingenioso pero... extremadamente lento."
   ]
  }
 ],
 "metadata": {
  "kernelspec": {
   "display_name": "Python 3 (ipykernel)",
   "language": "python",
   "name": "python3"
  },
  "language_info": {
   "codemirror_mode": {
    "name": "ipython",
    "version": 3
   },
   "file_extension": ".py",
   "mimetype": "text/x-python",
   "name": "python",
   "nbconvert_exporter": "python",
   "pygments_lexer": "ipython3",
   "version": "3.9.13"
  }
 },
 "nbformat": 4,
 "nbformat_minor": 5
}
